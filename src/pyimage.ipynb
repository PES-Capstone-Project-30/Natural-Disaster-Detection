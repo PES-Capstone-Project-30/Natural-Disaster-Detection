{
 "cells": [
  {
   "cell_type": "code",
   "execution_count": 4,
   "metadata": {
    "collapsed": true,
    "pycharm": {
     "name": "#%%\n"
    }
   },
   "outputs": [],
   "source": [
    "import os\n",
    "\n",
    "import cv2\n",
    "import numpy as np\n",
    "import pandas as pd\n",
    "from keras.applications import VGG16\n",
    "from keras.preprocessing.image import ImageDataGenerator\n",
    "from sklearn.model_selection import train_test_split\n",
    "from sklearn.preprocessing import LabelBinarizer\n",
    "from tensorflow.python.keras import Input, Model\n",
    "from tensorflow.python.keras.layers import Dense, Dropout\n",
    "from tensorflow.python.keras.optimizer_v2.gradient_descent import SGD\n",
    "from tensorflow.python.layers.core import Flatten\n",
    "\n",
    "from src.helpers import config\n"
   ]
  },
  {
   "cell_type": "code",
   "execution_count": 5,
   "outputs": [],
   "source": [
    "image_size = (224, 224)\n",
    "image_size_ext = (224, 224, 3)\n",
    "batch_size = 5\n",
    "data_dir = \"../data\"\n"
   ],
   "metadata": {
    "collapsed": false,
    "pycharm": {
     "name": "#%%\n"
    }
   }
  },
  {
   "cell_type": "code",
   "execution_count": 6,
   "outputs": [],
   "source": [
    "\n",
    "def get_random_images(count: int):\n",
    "    images = []\n",
    "    labels = []\n",
    "\n",
    "    train_data_dir = \"../../data/\"\n",
    "    for sub_dir in os.listdir(train_data_dir):\n",
    "        image_list = os.listdir(\n",
    "            os.path.join(train_data_dir, sub_dir)\n",
    "        )  #list of all image names in the directory\n",
    "        image_list = list(map(lambda x: os.path.join(sub_dir, x), image_list))\n",
    "        images.extend(image_list)\n",
    "        labels.extend([sub_dir] * len(image_list))\n",
    "\n",
    "    df = pd.DataFrame({\"Images\": images, \"Labels\": labels})\n",
    "    df = df.sample(frac=1).reset_index(drop=True)  # To shuffle the data\n",
    "    df = df.head(count)  # to take the subset of data (I'm taking 100 from it)\n",
    "\n",
    "    aug = ImageDataGenerator(\n",
    "        rotation_range=30,\n",
    "        zoom_range=0.15,\n",
    "        width_shift_range=0.2,\n",
    "        height_shift_range=0.2,\n",
    "        shear_range=0.15,\n",
    "        horizontal_flip=True,\n",
    "        validation_slip=0.2,\n",
    "    )\n",
    "\n",
    "    train_generator = aug.flow_from_dataframe(\n",
    "        dataframe=df,\n",
    "        directory=train_data_dir,\n",
    "        x_col=\"Images\",\n",
    "        y_col=\"Labels\",\n",
    "        batch_size=32,\n",
    "        seed=42,\n",
    "        shuffle=True,\n",
    "        class_mode=\"categorical\",\n",
    "        target_size=image_size,\n",
    "        subset=\"training\"\n",
    "    )\n",
    "\n",
    "    validation_generator = aug.flow_from_dataframe(\n",
    "        dataframe=df,\n",
    "        directory=train_data_dir,\n",
    "        x_col=\"Images\",\n",
    "        y_col=\"Labels\",\n",
    "        batch_size=32,\n",
    "        seed=42,\n",
    "        shuffle=True,\n",
    "        class_mode=\"categorical\",\n",
    "        target_size=image_size,\n",
    "        subset=\"validation\"\n",
    "    )\n",
    "    return train_generator, validation_generator\n"
   ],
   "metadata": {
    "collapsed": false,
    "pycharm": {
     "name": "#%%\n"
    }
   }
  },
  {
   "cell_type": "code",
   "execution_count": 7,
   "outputs": [],
   "source": [
    "def something(image_paths):\n",
    "    data, labels = [], []\n",
    "    for imagePath in image_paths:\n",
    "        # extract the class label\n",
    "        label = imagePath.split(os.path.sep)[-2]\n",
    "        # load the image, convert it to RGB channel ordering, and resize\n",
    "        # it to be a fixed 224x224 pixels, ignoring aspect ratio\n",
    "        image = cv2.imread(imagePath)\n",
    "        image = cv2.cvtColor(image, cv2.COLOR_BGR2RGB)\n",
    "        image = cv2.resize(image, (224, 224))\n",
    "        # update the data and labels lists, respectively\n",
    "        data.append(image)\n",
    "        labels.append(label)\n",
    "    # convert the data and labels to NumPy arrays\n",
    "    print(\"[INFO] processing data...\")\n",
    "    data = np.array(data, dtype=\"float32\")\n",
    "    labels = np.array(labels)\n",
    "\n",
    "    # perform one-hot encoding on the labels\n",
    "    lb = LabelBinarizer()\n",
    "    labels = lb.fit_transform(labels)\n",
    "    (trainX, testX, trainY, testY) = train_test_split(\n",
    "        data, labels,\n",
    "        test_size=0.2, random_state=42\n",
    "    )\n",
    "    # take the validation split from the training split\n",
    "    (trainX, valX, trainY, valY) = train_test_split(\n",
    "        trainX, trainY,\n",
    "        test_size=0.2, random_state=84\n",
    "    )\n",
    "    # initialize the training data augmentation object\n",
    "    aug = ImageDataGenerator(\n",
    "        rotation_range=30,\n",
    "        zoom_range=0.15,\n",
    "        width_shift_range=0.2,\n",
    "        height_shift_range=0.2,\n",
    "        shear_range=0.15,\n",
    "        horizontal_flip=True,\n",
    "        fill_mode=\"nearest\"\n",
    "    )\n",
    "\n",
    "    return aug\n"
   ],
   "metadata": {
    "collapsed": false,
    "pycharm": {
     "name": "#%%\n"
    }
   }
  },
  {
   "cell_type": "code",
   "execution_count": 8,
   "outputs": [],
   "source": [
    "def create_models():\n",
    "    baseModel = VGG16(\n",
    "        weights=\"imagenet\", include_top=False,\n",
    "        input_tensor=Input(shape=(224, 224, 3))\n",
    "    )\n",
    "    # construct the head of the model that will be placed on top of the\n",
    "    # the base model\n",
    "    headModel = baseModel.output\n",
    "    headModel = Flatten(name=\"flatten\")(headModel)\n",
    "    headModel = Dense(512, activation=\"relu\")(headModel)\n",
    "    headModel = Dropout(0.5)(headModel)\n",
    "    headModel = Dense(len(config.CLASSES), activation=\"softmax\")(headModel)\n",
    "    # place the head FC model on top of the base model (this will become\n",
    "    # the actual model we will train)\n",
    "    model = Model(inputs=baseModel.input, outputs=headModel)\n",
    "    # loop over all layers in the base model and freeze them so they will\n",
    "    # *not* be updated during the first training process\n",
    "    for layer in baseModel.layers:\n",
    "        layer.trainable = False\n",
    "    # compile our model (this needs to be done after our setting our\n",
    "    # layers to being non-trainable\n",
    "    print(\"[INFO] compiling model...\")\n",
    "    opt = SGD(lr=config.MIN_LR, momentum=0.9)\n",
    "    model.compile(\n",
    "        loss=\"categorical_crossentropy\", optimizer=opt,\n",
    "        metrics=[\"accuracy\"]\n",
    "    )\n",
    "\n",
    "    return model"
   ],
   "metadata": {
    "collapsed": false,
    "pycharm": {
     "name": "#%%\n"
    }
   }
  },
  {
   "cell_type": "code",
   "execution_count": 9,
   "outputs": [],
   "source": [
    "def fit(model, trainX, trainY, valX, valY, aug):\n",
    "    H = model.fit_generator(\n",
    "        aug.flow(trainX, trainY, batch_size=config.BATCH_SIZE),\n",
    "        validation_data=(valX, valY),\n",
    "        steps_per_epoch=trainX.shape[0] // config.BATCH_SIZE,\n",
    "        epochs=config.NUM_EPOCHS,\n",
    "        verbose=1\n",
    "    )\n",
    "\n",
    "    return H\n"
   ],
   "metadata": {
    "collapsed": false,
    "pycharm": {
     "name": "#%%\n"
    }
   }
  },
  {
   "cell_type": "code",
   "execution_count": null,
   "outputs": [],
   "source": [],
   "metadata": {
    "collapsed": false,
    "pycharm": {
     "name": "#%%\n"
    }
   }
  }
 ],
 "metadata": {
  "kernelspec": {
   "display_name": "Python 3",
   "language": "python",
   "name": "python3"
  },
  "language_info": {
   "codemirror_mode": {
    "name": "ipython",
    "version": 2
   },
   "file_extension": ".py",
   "mimetype": "text/x-python",
   "name": "python",
   "nbconvert_exporter": "python",
   "pygments_lexer": "ipython2",
   "version": "2.7.6"
  }
 },
 "nbformat": 4,
 "nbformat_minor": 0
}