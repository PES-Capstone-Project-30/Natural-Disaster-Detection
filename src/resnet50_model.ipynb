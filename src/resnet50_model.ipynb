{
 "cells": [
  {
   "cell_type": "code",
   "execution_count": null,
   "id": "66e803d5",
   "metadata": {
    "pycharm": {
     "name": "#%%\n"
    }
   },
   "outputs": [],
   "source": [
    "import os\n",
    "import numpy as np\n",
    "import pandas as pd\n",
    "from keras.applications import ResNet50\n",
    "from keras.applications.vgg19 import preprocess_input\n",
    "from keras.layers import Dense, Flatten\n",
    "from tensorflow.keras.models import Model\n",
    "from tensorflow.keras.preprocessing.image import ImageDataGenerator\n",
    "from tensorflow.keras.preprocessing.image import load_img, img_to_array\n",
    "from tensorflow.python.keras.models import load_model\n",
    "from tensorflow.python.layers.core import Dropout"
   ]
  },
  {
   "cell_type": "code",
   "execution_count": null,
   "id": "5b16912a",
   "metadata": {
    "pycharm": {
     "name": "#%%\n"
    }
   },
   "outputs": [],
   "source": [
    "image_size = (224, 224)\n",
    "image_size_ext = (224, 224, 3)\n",
    "batch_size = 5\n",
    "sample_data = \"../../sample-data\"\n",
    "CLASSES = [\"Cyclone\", \"Earthquake\", \"Flood\", \"Wildfire\"]\n"
   ]
  },
  {
   "cell_type": "code",
   "execution_count": null,
   "id": "f72fbcfd",
   "metadata": {
    "pycharm": {
     "name": "#%%\n"
    }
   },
   "outputs": [],
   "source": [
    "def get_random_images(count: int):\n",
    "    images = []\n",
    "    labels = []\n",
    "\n",
    "    train_data_dir = \"../data/\"\n",
    "    for sub_dir in os.listdir(train_data_dir):\n",
    "        image_list = os.listdir(\n",
    "            os.path.join(train_data_dir, sub_dir)\n",
    "        )  #list of all image names in the directory\n",
    "        image_list = list(map(lambda x: os.path.join(sub_dir, x), image_list))\n",
    "        images.extend(image_list)\n",
    "        labels.extend([sub_dir] * len(image_list))\n",
    "\n",
    "    df = pd.DataFrame({\"Images\": images, \"Labels\": labels})\n",
    "    df = df.sample(frac=1).reset_index(drop=True)  # To shuffle the data\n",
    "    df = df.head(count)  # to take the subset of data (I'm taking 100 from it)\n",
    "\n",
    "    aug = ImageDataGenerator(\n",
    "        rotation_range=30,\n",
    "        zoom_range=0.15,\n",
    "        width_shift_range=0.2,\n",
    "        height_shift_range=0.2,\n",
    "        shear_range=0.15,\n",
    "        horizontal_flip=True,\n",
    "        validation_split=0.2,\n",
    "    )\n",
    "\n",
    "    train_data = aug.flow_from_dataframe(\n",
    "        dataframe=df,\n",
    "        directory=train_data_dir,\n",
    "        x_col=\"Images\",\n",
    "        y_col=\"Labels\",\n",
    "        batch_size=32,\n",
    "        seed=42,\n",
    "        shuffle=True,\n",
    "        class_mode=\"categorical\",\n",
    "        target_size=image_size,\n",
    "        subset=\"training\"\n",
    "    )\n",
    "\n",
    "    validation_data = aug.flow_from_dataframe(\n",
    "        dataframe=df,\n",
    "        directory=train_data_dir,\n",
    "        x_col=\"Images\",\n",
    "        y_col=\"Labels\",\n",
    "        batch_size=32,\n",
    "        seed=42,\n",
    "        shuffle=True,\n",
    "        class_mode=\"categorical\",\n",
    "        target_size=image_size,\n",
    "        subset=\"validation\"\n",
    "    )\n",
    "    return train_data, validation_data\n",
    "\n"
   ]
  },
  {
   "cell_type": "code",
   "execution_count": null,
   "id": "9be60e29",
   "metadata": {
    "pycharm": {
     "name": "#%%\n"
    }
   },
   "outputs": [],
   "source": [
    "#ensure the layers are not trained. In order words, the weights are used as is\n",
    "baseModel = ResNet50(\n",
    "    weights=\"imagenet\", include_top=False,\n",
    "    input_shape=(224, 224, 3)\n",
    ")\n",
    "\n",
    "# construct the head of the model that will be placed on top of the\n",
    "# the base model\n",
    "headModel = baseModel.output\n",
    "headModel = Flatten(name=\"flatten\")(headModel)\n",
    "headModel = Dense(512, activation=\"relu\")(headModel)\n",
    "headModel = Dropout(0.5)(headModel)\n",
    "headModel = Dense(len(CLASSES), activation=\"softmax\")(headModel)\n",
    "\n",
    "# place the head FC model on top of the base model (this will become\n",
    "# the actual model we will train)\n",
    "model = Model(inputs=baseModel.input, outputs=headModel)\n",
    "\n",
    "# loop over all layers in the base model and freeze them so they will\n",
    "# *not* be updated during the first training process\n",
    "for layer in baseModel.layers:\n",
    "    layer.trainable = False\n",
    "\n",
    "#check the model architecture\n",
    "model.summary()"
   ]
  },
  {
   "cell_type": "code",
   "execution_count": null,
   "id": "1750abb6",
   "metadata": {
    "pycharm": {
     "name": "#%%\n"
    }
   },
   "outputs": [],
   "source": [
    "#compile the model\n",
    "model.compile(optimizer='adam', loss='categorical_crossentropy', metrics='accuracy')"
   ]
  },
  {
   "cell_type": "code",
   "execution_count": null,
   "id": "eca7887d",
   "metadata": {
    "pycharm": {
     "name": "#%%\n"
    }
   },
   "outputs": [],
   "source": [
    "train_data, validation_data = get_random_images(10)"
   ]
  },
  {
   "cell_type": "code",
   "execution_count": null,
   "id": "f46eea5a",
   "metadata": {
    "pycharm": {
     "name": "#%%\n"
    }
   },
   "outputs": [],
   "source": [
    "history = model.fit_generator(train_data, validation_data=validation_data, epochs=2)\n"
   ]
  },
  {
   "cell_type": "code",
   "execution_count": null,
   "id": "96c3ef9c",
   "metadata": {
    "pycharm": {
     "name": "#%%\n"
    }
   },
   "outputs": [],
   "source": [
    "folder_path = '../Test/'\n",
    "res = []\n",
    "for img in os.listdir(folder_path):\n",
    "    img = os.path.join(folder_path, img)\n",
    "    print(img)\n",
    "    my_image = load_img(img, target_size=(224, 224))\n",
    "\n",
    "    #preprocess the image\n",
    "    my_image = img_to_array(my_image)\n",
    "    my_image = my_image.reshape((1, my_image.shape[0], my_image.shape[1], my_image.shape[2]))\n",
    "    my_image = preprocess_input(my_image)\n",
    "\n",
    "    #make the prediction\n",
    "    prediction = model.predict(my_image)\n",
    "    for x in prediction:\n",
    "        res.append([np.round(x), img])\n"
   ]
  },
  {
   "cell_type": "code",
   "execution_count": null,
   "id": "15c318ec",
   "metadata": {
    "pycharm": {
     "name": "#%%\n"
    }
   },
   "outputs": [],
   "source": [
    "for each in res:\n",
    "    print(each)\n",
    "\n",
    "# 0-> Cyclone\n",
    "#     Eathquake\n",
    "#     Floods\n",
    "#     WildFires"
   ]
  },
  {
   "cell_type": "code",
   "execution_count": null,
   "id": "c0ab9782",
   "metadata": {
    "pycharm": {
     "name": "#%%\n"
    }
   },
   "outputs": [],
   "source": [
    "model.save(\"../model.h5\")"
   ]
  },
  {
   "cell_type": "code",
   "execution_count": null,
   "id": "458c238b",
   "metadata": {
    "pycharm": {
     "name": "#%%\n"
    }
   },
   "outputs": [],
   "source": [
    "model = load_model('../model.h5')\n",
    "model.summary()\n"
   ]
  },
  {
   "cell_type": "code",
   "execution_count": null,
   "outputs": [],
   "source": [],
   "metadata": {
    "collapsed": false,
    "pycharm": {
     "name": "#%%\n"
    }
   }
  }
 ],
 "metadata": {
  "kernelspec": {
   "name": "python3",
   "language": "python",
   "display_name": "Python 3 (ipykernel)"
  },
  "language_info": {
   "codemirror_mode": {
    "name": "ipython",
    "version": 3
   },
   "file_extension": ".py",
   "mimetype": "text/x-python",
   "name": "python",
   "nbconvert_exporter": "python",
   "pygments_lexer": "ipython3",
   "version": "3.9.13"
  }
 },
 "nbformat": 4,
 "nbformat_minor": 5
}