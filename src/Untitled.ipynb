{
 "cells": [
  {
   "cell_type": "code",
   "execution_count": 6,
   "id": "4f6208ce",
   "metadata": {
    "pycharm": {
     "name": "#%%\n"
    }
   },
   "outputs": [],
   "source": [
    "from keras.applications.vgg16 import VGG16\n",
    "from keras.layers import Dense, Flatten\n",
    "#import all necessary libraries\n",
    "from keras.models import Model\n",
    "from keras.preprocessing.image import ImageDataGenerator\n",
    "# noinspection PyUnresolvedReferences\n",
    "from tensorflow.keras.preprocessing.image import load_img, img_to_array"
   ]
  },
  {
   "cell_type": "code",
   "execution_count": 7,
   "id": "b8790e8e",
   "metadata": {
    "pycharm": {
     "name": "#%%\n"
    }
   },
   "outputs": [
    {
     "name": "stdout",
     "output_type": "stream",
     "text": [
      "Model: \"model_1\"\n",
      "_________________________________________________________________\n",
      " Layer (type)                Output Shape              Param #   \n",
      "=================================================================\n",
      " input_2 (InputLayer)        [(None, 224, 224, 3)]     0         \n",
      "                                                                 \n",
      " block1_conv1 (Conv2D)       (None, 224, 224, 64)      1792      \n",
      "                                                                 \n",
      " block1_conv2 (Conv2D)       (None, 224, 224, 64)      36928     \n",
      "                                                                 \n",
      " block1_pool (MaxPooling2D)  (None, 112, 112, 64)      0         \n",
      "                                                                 \n",
      " block2_conv1 (Conv2D)       (None, 112, 112, 128)     73856     \n",
      "                                                                 \n",
      " block2_conv2 (Conv2D)       (None, 112, 112, 128)     147584    \n",
      "                                                                 \n",
      " block2_pool (MaxPooling2D)  (None, 56, 56, 128)       0         \n",
      "                                                                 \n",
      " block3_conv1 (Conv2D)       (None, 56, 56, 256)       295168    \n",
      "                                                                 \n",
      " block3_conv2 (Conv2D)       (None, 56, 56, 256)       590080    \n",
      "                                                                 \n",
      " block3_conv3 (Conv2D)       (None, 56, 56, 256)       590080    \n",
      "                                                                 \n",
      " block3_pool (MaxPooling2D)  (None, 28, 28, 256)       0         \n",
      "                                                                 \n",
      " block4_conv1 (Conv2D)       (None, 28, 28, 512)       1180160   \n",
      "                                                                 \n",
      " block4_conv2 (Conv2D)       (None, 28, 28, 512)       2359808   \n",
      "                                                                 \n",
      " block4_conv3 (Conv2D)       (None, 28, 28, 512)       2359808   \n",
      "                                                                 \n",
      " block4_pool (MaxPooling2D)  (None, 14, 14, 512)       0         \n",
      "                                                                 \n",
      " block5_conv1 (Conv2D)       (None, 14, 14, 512)       2359808   \n",
      "                                                                 \n",
      " block5_conv2 (Conv2D)       (None, 14, 14, 512)       2359808   \n",
      "                                                                 \n",
      " block5_conv3 (Conv2D)       (None, 14, 14, 512)       2359808   \n",
      "                                                                 \n",
      " block5_pool (MaxPooling2D)  (None, 7, 7, 512)         0         \n",
      "                                                                 \n",
      " flatten_1 (Flatten)         (None, 25088)             0         \n",
      "                                                                 \n",
      " dense_1 (Dense)             (None, 4)                 100356    \n",
      "                                                                 \n",
      "=================================================================\n",
      "Total params: 14,815,044\n",
      "Trainable params: 100,356\n",
      "Non-trainable params: 14,714,688\n",
      "_________________________________________________________________\n"
     ]
    }
   ],
   "source": [
    "#ensure the layers are not trained. In order words, the weights are used as is\n",
    "vgg = VGG16(weights='imagenet', include_top=False, input_shape=(224, 224, 3))\n",
    "for layer in vgg.layers:\n",
    "    layer.trainable = False\n",
    "    \n",
    "#flatten the last layer and add a fully connected layer as output\n",
    "hidden = Flatten()(vgg.output)\n",
    "outputs = Dense(4, activation='softmax')(hidden)\n",
    " \n",
    "#create the model\n",
    "model = Model(inputs=vgg.input, outputs=outputs)\n",
    " \n",
    "#check the model architecture\n",
    "model.summary()"
   ]
  },
  {
   "cell_type": "code",
   "execution_count": 8,
   "id": "34a25a5b",
   "metadata": {
    "pycharm": {
     "name": "#%%\n"
    }
   },
   "outputs": [],
   "source": [
    "#compile the model\n",
    "model.compile(optimizer='adam', loss='categorical_crossentropy', metrics='accuracy')"
   ]
  },
  {
   "cell_type": "code",
   "execution_count": 9,
   "id": "0ff418a6",
   "metadata": {
    "pycharm": {
     "name": "#%%\n"
    }
   },
   "outputs": [
    {
     "name": "stdout",
     "output_type": "stream",
     "text": [
      "Found 84 images belonging to 4 classes.\n",
      "Found 84 images belonging to 4 classes.\n"
     ]
    }
   ],
   "source": [
    "#generate the train and test data \n",
    "train_data_gen = ImageDataGenerator(rescale=1.0/255, \n",
    "                               shear_range=0.5,\n",
    "                                zoom_range=0.7, \n",
    "                                horizontal_flip=True,\n",
    "                                vertical_flip=True)\n",
    " \n",
    "test_data_gen = ImageDataGenerator(rescale=1.0/255)\n",
    " \n",
    "train_data = train_data_gen.flow_from_directory(\"../sample-data/train/\",\n",
    "                                               target_size=(224, 224),\n",
    "                                               class_mode='categorical')\n",
    "#\n",
    "test_data = test_data_gen.flow_from_directory(\"../sample-data/train/\",\n",
    "                                               target_size=(224, 224),\n",
    "                                               class_mode='categorical')"
   ]
  },
  {
   "cell_type": "code",
   "execution_count": 10,
   "id": "4235fab0",
   "metadata": {
    "pycharm": {
     "name": "#%%\n"
    }
   },
   "outputs": [
    {
     "name": "stderr",
     "output_type": "stream",
     "text": [
      "/tmp/ipykernel_404980/595329667.py:1: UserWarning: `Model.fit_generator` is deprecated and will be removed in a future version. Please use `Model.fit`, which supports generators.\n",
      "  history = model.fit_generator(train_data, validation_data=test_data, epochs=8)\n"
     ]
    },
    {
     "name": "stdout",
     "output_type": "stream",
     "text": [
      "Epoch 1/8\n",
      "3/3 [==============================] - 92s 39s/step - loss: 2.3998 - accuracy: 0.2738 - val_loss: 1.5464 - val_accuracy: 0.3214\n",
      "Epoch 2/8\n",
      "3/3 [==============================] - 93s 37s/step - loss: 1.6087 - accuracy: 0.2857 - val_loss: 1.2076 - val_accuracy: 0.4524\n",
      "Epoch 3/8\n",
      "3/3 [==============================] - 84s 35s/step - loss: 1.1419 - accuracy: 0.5119 - val_loss: 0.7825 - val_accuracy: 0.5952\n",
      "Epoch 4/8\n",
      "3/3 [==============================] - 117s 52s/step - loss: 0.9626 - accuracy: 0.5476 - val_loss: 0.5380 - val_accuracy: 0.8333\n",
      "Epoch 5/8\n",
      "3/3 [==============================] - 119s 47s/step - loss: 0.7376 - accuracy: 0.7143 - val_loss: 0.6182 - val_accuracy: 0.7143\n",
      "Epoch 6/8\n",
      "3/3 [==============================] - 104s 42s/step - loss: 0.7229 - accuracy: 0.6905 - val_loss: 0.4429 - val_accuracy: 0.8333\n",
      "Epoch 7/8\n",
      "3/3 [==============================] - 98s 39s/step - loss: 0.6610 - accuracy: 0.7143 - val_loss: 0.3462 - val_accuracy: 0.9048\n",
      "Epoch 8/8\n",
      "3/3 [==============================] - 97s 42s/step - loss: 0.6841 - accuracy: 0.7857 - val_loss: 0.4211 - val_accuracy: 0.8690\n"
     ]
    }
   ],
   "source": [
    "history = model.fit_generator(train_data, validation_data=test_data, epochs=8)\n"
   ]
  },
  {
   "cell_type": "code",
   "execution_count": 11,
   "outputs": [],
   "source": [
    "# resnet machine learning model using keras and tensorflow\n"
   ],
   "metadata": {
    "collapsed": false,
    "pycharm": {
     "name": "#%%\n"
    }
   }
  }
 ],
 "metadata": {
  "kernelspec": {
   "display_name": "Python 3 (ipykernel)",
   "language": "python",
   "name": "python3"
  },
  "language_info": {
   "codemirror_mode": {
    "name": "ipython",
    "version": 3
   },
   "file_extension": ".py",
   "mimetype": "text/x-python",
   "name": "python",
   "nbconvert_exporter": "python",
   "pygments_lexer": "ipython3",
   "version": "3.9.6"
  }
 },
 "nbformat": 4,
 "nbformat_minor": 5
}